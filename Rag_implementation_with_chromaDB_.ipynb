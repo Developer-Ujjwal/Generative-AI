{
  "nbformat": 4,
  "nbformat_minor": 0,
  "metadata": {
    "colab": {
      "provenance": [],
      "gpuType": "T4",
      "toc_visible": true,
      "authorship_tag": "ABX9TyMtvgqOeDOLkk2aIKgulp05",
      "include_colab_link": true
    },
    "kernelspec": {
      "name": "python3",
      "display_name": "Python 3"
    },
    "language_info": {
      "name": "python"
    },
    "accelerator": "GPU"
  },
  "cells": [
    {
      "cell_type": "markdown",
      "metadata": {
        "id": "view-in-github",
        "colab_type": "text"
      },
      "source": [
        "<a href=\"https://colab.research.google.com/github/Developer-Ujjwal/Generative-AI/blob/main/Rag_implementation_with_chromaDB_.ipynb\" target=\"_parent\"><img src=\"https://colab.research.google.com/assets/colab-badge.svg\" alt=\"Open In Colab\"/></a>"
      ]
    },
    {
      "cell_type": "code",
      "source": [
        "!pip install langchain langchain_community"
      ],
      "metadata": {
        "colab": {
          "base_uri": "https://localhost:8080/"
        },
        "collapsed": true,
        "id": "hGvpChL9aQlM",
        "outputId": "40d8a926-3852-494a-c131-ade0f8a5d1b7"
      },
      "execution_count": null,
      "outputs": [
        {
          "output_type": "stream",
          "name": "stdout",
          "text": [
            "Requirement already satisfied: langchain in /usr/local/lib/python3.12/dist-packages (0.3.27)\n",
            "Requirement already satisfied: langchain_community in /usr/local/lib/python3.12/dist-packages (0.3.27)\n",
            "Requirement already satisfied: langchain-core<1.0.0,>=0.3.72 in /usr/local/lib/python3.12/dist-packages (from langchain) (0.3.74)\n",
            "Requirement already satisfied: langchain-text-splitters<1.0.0,>=0.3.9 in /usr/local/lib/python3.12/dist-packages (from langchain) (0.3.9)\n",
            "Requirement already satisfied: langsmith>=0.1.17 in /usr/local/lib/python3.12/dist-packages (from langchain) (0.4.14)\n",
            "Requirement already satisfied: pydantic<3.0.0,>=2.7.4 in /usr/local/lib/python3.12/dist-packages (from langchain) (2.11.7)\n",
            "Requirement already satisfied: SQLAlchemy<3,>=1.4 in /usr/local/lib/python3.12/dist-packages (from langchain) (2.0.43)\n",
            "Requirement already satisfied: requests<3,>=2 in /usr/local/lib/python3.12/dist-packages (from langchain) (2.32.3)\n",
            "Requirement already satisfied: PyYAML>=5.3 in /usr/local/lib/python3.12/dist-packages (from langchain) (6.0.2)\n",
            "Requirement already satisfied: aiohttp<4.0.0,>=3.8.3 in /usr/local/lib/python3.12/dist-packages (from langchain_community) (3.12.15)\n",
            "Requirement already satisfied: tenacity!=8.4.0,<10,>=8.1.0 in /usr/local/lib/python3.12/dist-packages (from langchain_community) (9.1.2)\n",
            "Requirement already satisfied: dataclasses-json<0.7,>=0.5.7 in /usr/local/lib/python3.12/dist-packages (from langchain_community) (0.6.7)\n",
            "Requirement already satisfied: pydantic-settings<3.0.0,>=2.4.0 in /usr/local/lib/python3.12/dist-packages (from langchain_community) (2.10.1)\n",
            "Requirement already satisfied: httpx-sse<1.0.0,>=0.4.0 in /usr/local/lib/python3.12/dist-packages (from langchain_community) (0.4.1)\n",
            "Requirement already satisfied: numpy>=1.26.2 in /usr/local/lib/python3.12/dist-packages (from langchain_community) (2.0.2)\n",
            "Requirement already satisfied: aiohappyeyeballs>=2.5.0 in /usr/local/lib/python3.12/dist-packages (from aiohttp<4.0.0,>=3.8.3->langchain_community) (2.6.1)\n",
            "Requirement already satisfied: aiosignal>=1.4.0 in /usr/local/lib/python3.12/dist-packages (from aiohttp<4.0.0,>=3.8.3->langchain_community) (1.4.0)\n",
            "Requirement already satisfied: attrs>=17.3.0 in /usr/local/lib/python3.12/dist-packages (from aiohttp<4.0.0,>=3.8.3->langchain_community) (25.3.0)\n",
            "Requirement already satisfied: frozenlist>=1.1.1 in /usr/local/lib/python3.12/dist-packages (from aiohttp<4.0.0,>=3.8.3->langchain_community) (1.7.0)\n",
            "Requirement already satisfied: multidict<7.0,>=4.5 in /usr/local/lib/python3.12/dist-packages (from aiohttp<4.0.0,>=3.8.3->langchain_community) (6.6.4)\n",
            "Requirement already satisfied: propcache>=0.2.0 in /usr/local/lib/python3.12/dist-packages (from aiohttp<4.0.0,>=3.8.3->langchain_community) (0.3.2)\n",
            "Requirement already satisfied: yarl<2.0,>=1.17.0 in /usr/local/lib/python3.12/dist-packages (from aiohttp<4.0.0,>=3.8.3->langchain_community) (1.20.1)\n",
            "Requirement already satisfied: marshmallow<4.0.0,>=3.18.0 in /usr/local/lib/python3.12/dist-packages (from dataclasses-json<0.7,>=0.5.7->langchain_community) (3.26.1)\n",
            "Requirement already satisfied: typing-inspect<1,>=0.4.0 in /usr/local/lib/python3.12/dist-packages (from dataclasses-json<0.7,>=0.5.7->langchain_community) (0.9.0)\n",
            "Requirement already satisfied: jsonpatch<2.0,>=1.33 in /usr/local/lib/python3.12/dist-packages (from langchain-core<1.0.0,>=0.3.72->langchain) (1.33)\n",
            "Requirement already satisfied: typing-extensions>=4.7 in /usr/local/lib/python3.12/dist-packages (from langchain-core<1.0.0,>=0.3.72->langchain) (4.14.1)\n",
            "Requirement already satisfied: packaging>=23.2 in /usr/local/lib/python3.12/dist-packages (from langchain-core<1.0.0,>=0.3.72->langchain) (25.0)\n",
            "Requirement already satisfied: httpx<1,>=0.23.0 in /usr/local/lib/python3.12/dist-packages (from langsmith>=0.1.17->langchain) (0.28.1)\n",
            "Requirement already satisfied: orjson>=3.9.14 in /usr/local/lib/python3.12/dist-packages (from langsmith>=0.1.17->langchain) (3.11.2)\n",
            "Requirement already satisfied: requests-toolbelt>=1.0.0 in /usr/local/lib/python3.12/dist-packages (from langsmith>=0.1.17->langchain) (1.0.0)\n",
            "Requirement already satisfied: zstandard>=0.23.0 in /usr/local/lib/python3.12/dist-packages (from langsmith>=0.1.17->langchain) (0.23.0)\n",
            "Requirement already satisfied: annotated-types>=0.6.0 in /usr/local/lib/python3.12/dist-packages (from pydantic<3.0.0,>=2.7.4->langchain) (0.7.0)\n",
            "Requirement already satisfied: pydantic-core==2.33.2 in /usr/local/lib/python3.12/dist-packages (from pydantic<3.0.0,>=2.7.4->langchain) (2.33.2)\n",
            "Requirement already satisfied: typing-inspection>=0.4.0 in /usr/local/lib/python3.12/dist-packages (from pydantic<3.0.0,>=2.7.4->langchain) (0.4.1)\n",
            "Requirement already satisfied: python-dotenv>=0.21.0 in /usr/local/lib/python3.12/dist-packages (from pydantic-settings<3.0.0,>=2.4.0->langchain_community) (1.1.1)\n",
            "Requirement already satisfied: charset-normalizer<4,>=2 in /usr/local/lib/python3.12/dist-packages (from requests<3,>=2->langchain) (3.4.3)\n",
            "Requirement already satisfied: idna<4,>=2.5 in /usr/local/lib/python3.12/dist-packages (from requests<3,>=2->langchain) (3.10)\n",
            "Requirement already satisfied: urllib3<3,>=1.21.1 in /usr/local/lib/python3.12/dist-packages (from requests<3,>=2->langchain) (2.5.0)\n",
            "Requirement already satisfied: certifi>=2017.4.17 in /usr/local/lib/python3.12/dist-packages (from requests<3,>=2->langchain) (2025.8.3)\n",
            "Requirement already satisfied: greenlet>=1 in /usr/local/lib/python3.12/dist-packages (from SQLAlchemy<3,>=1.4->langchain) (3.2.4)\n",
            "Requirement already satisfied: anyio in /usr/local/lib/python3.12/dist-packages (from httpx<1,>=0.23.0->langsmith>=0.1.17->langchain) (4.10.0)\n",
            "Requirement already satisfied: httpcore==1.* in /usr/local/lib/python3.12/dist-packages (from httpx<1,>=0.23.0->langsmith>=0.1.17->langchain) (1.0.9)\n",
            "Requirement already satisfied: h11>=0.16 in /usr/local/lib/python3.12/dist-packages (from httpcore==1.*->httpx<1,>=0.23.0->langsmith>=0.1.17->langchain) (0.16.0)\n",
            "Requirement already satisfied: jsonpointer>=1.9 in /usr/local/lib/python3.12/dist-packages (from jsonpatch<2.0,>=1.33->langchain-core<1.0.0,>=0.3.72->langchain) (3.0.0)\n",
            "Requirement already satisfied: mypy-extensions>=0.3.0 in /usr/local/lib/python3.12/dist-packages (from typing-inspect<1,>=0.4.0->dataclasses-json<0.7,>=0.5.7->langchain_community) (1.1.0)\n",
            "Requirement already satisfied: sniffio>=1.1 in /usr/local/lib/python3.12/dist-packages (from anyio->httpx<1,>=0.23.0->langsmith>=0.1.17->langchain) (1.3.1)\n"
          ]
        }
      ]
    },
    {
      "cell_type": "code",
      "execution_count": null,
      "metadata": {
        "id": "r0_biwQOYF1D"
      },
      "outputs": [],
      "source": [
        "from langchain_community.document_loaders import UnstructuredURLLoader"
      ]
    },
    {
      "cell_type": "code",
      "source": [
        "!pip install unstructured"
      ],
      "metadata": {
        "colab": {
          "base_uri": "https://localhost:8080/"
        },
        "collapsed": true,
        "id": "In1iFLyxakGK",
        "outputId": "90eebea4-d697-493f-ced5-824c8f05d1bf"
      },
      "execution_count": null,
      "outputs": [
        {
          "output_type": "stream",
          "name": "stdout",
          "text": [
            "Requirement already satisfied: unstructured in /usr/local/lib/python3.12/dist-packages (0.18.13)\n",
            "Requirement already satisfied: charset-normalizer in /usr/local/lib/python3.12/dist-packages (from unstructured) (3.4.3)\n",
            "Requirement already satisfied: filetype in /usr/local/lib/python3.12/dist-packages (from unstructured) (1.2.0)\n",
            "Requirement already satisfied: python-magic in /usr/local/lib/python3.12/dist-packages (from unstructured) (0.4.27)\n",
            "Requirement already satisfied: lxml in /usr/local/lib/python3.12/dist-packages (from unstructured) (5.4.0)\n",
            "Requirement already satisfied: nltk in /usr/local/lib/python3.12/dist-packages (from unstructured) (3.9.1)\n",
            "Requirement already satisfied: requests in /usr/local/lib/python3.12/dist-packages (from unstructured) (2.32.3)\n",
            "Requirement already satisfied: beautifulsoup4 in /usr/local/lib/python3.12/dist-packages (from unstructured) (4.13.4)\n",
            "Requirement already satisfied: emoji in /usr/local/lib/python3.12/dist-packages (from unstructured) (2.14.1)\n",
            "Requirement already satisfied: dataclasses-json in /usr/local/lib/python3.12/dist-packages (from unstructured) (0.6.7)\n",
            "Requirement already satisfied: python-iso639 in /usr/local/lib/python3.12/dist-packages (from unstructured) (2025.2.18)\n",
            "Requirement already satisfied: langdetect in /usr/local/lib/python3.12/dist-packages (from unstructured) (1.0.9)\n",
            "Requirement already satisfied: numpy in /usr/local/lib/python3.12/dist-packages (from unstructured) (2.0.2)\n",
            "Requirement already satisfied: rapidfuzz in /usr/local/lib/python3.12/dist-packages (from unstructured) (3.13.0)\n",
            "Requirement already satisfied: backoff in /usr/local/lib/python3.12/dist-packages (from unstructured) (2.2.1)\n",
            "Requirement already satisfied: typing-extensions in /usr/local/lib/python3.12/dist-packages (from unstructured) (4.14.1)\n",
            "Requirement already satisfied: unstructured-client in /usr/local/lib/python3.12/dist-packages (from unstructured) (0.42.3)\n",
            "Requirement already satisfied: wrapt in /usr/local/lib/python3.12/dist-packages (from unstructured) (1.17.3)\n",
            "Requirement already satisfied: tqdm in /usr/local/lib/python3.12/dist-packages (from unstructured) (4.67.1)\n",
            "Requirement already satisfied: psutil in /usr/local/lib/python3.12/dist-packages (from unstructured) (5.9.5)\n",
            "Requirement already satisfied: python-oxmsg in /usr/local/lib/python3.12/dist-packages (from unstructured) (0.0.2)\n",
            "Requirement already satisfied: html5lib in /usr/local/lib/python3.12/dist-packages (from unstructured) (1.1)\n",
            "Requirement already satisfied: soupsieve>1.2 in /usr/local/lib/python3.12/dist-packages (from beautifulsoup4->unstructured) (2.7)\n",
            "Requirement already satisfied: marshmallow<4.0.0,>=3.18.0 in /usr/local/lib/python3.12/dist-packages (from dataclasses-json->unstructured) (3.26.1)\n",
            "Requirement already satisfied: typing-inspect<1,>=0.4.0 in /usr/local/lib/python3.12/dist-packages (from dataclasses-json->unstructured) (0.9.0)\n",
            "Requirement already satisfied: six>=1.9 in /usr/local/lib/python3.12/dist-packages (from html5lib->unstructured) (1.17.0)\n",
            "Requirement already satisfied: webencodings in /usr/local/lib/python3.12/dist-packages (from html5lib->unstructured) (0.5.1)\n",
            "Requirement already satisfied: click in /usr/local/lib/python3.12/dist-packages (from nltk->unstructured) (8.2.1)\n",
            "Requirement already satisfied: joblib in /usr/local/lib/python3.12/dist-packages (from nltk->unstructured) (1.5.1)\n",
            "Requirement already satisfied: regex>=2021.8.3 in /usr/local/lib/python3.12/dist-packages (from nltk->unstructured) (2024.11.6)\n",
            "Requirement already satisfied: olefile in /usr/local/lib/python3.12/dist-packages (from python-oxmsg->unstructured) (0.47)\n",
            "Requirement already satisfied: idna<4,>=2.5 in /usr/local/lib/python3.12/dist-packages (from requests->unstructured) (3.10)\n",
            "Requirement already satisfied: urllib3<3,>=1.21.1 in /usr/local/lib/python3.12/dist-packages (from requests->unstructured) (2.5.0)\n",
            "Requirement already satisfied: certifi>=2017.4.17 in /usr/local/lib/python3.12/dist-packages (from requests->unstructured) (2025.8.3)\n",
            "Requirement already satisfied: aiofiles>=24.1.0 in /usr/local/lib/python3.12/dist-packages (from unstructured-client->unstructured) (24.1.0)\n",
            "Requirement already satisfied: cryptography>=3.1 in /usr/local/lib/python3.12/dist-packages (from unstructured-client->unstructured) (43.0.3)\n",
            "Requirement already satisfied: httpcore>=1.0.9 in /usr/local/lib/python3.12/dist-packages (from unstructured-client->unstructured) (1.0.9)\n",
            "Requirement already satisfied: httpx>=0.27.0 in /usr/local/lib/python3.12/dist-packages (from unstructured-client->unstructured) (0.28.1)\n",
            "Requirement already satisfied: pydantic>=2.11.2 in /usr/local/lib/python3.12/dist-packages (from unstructured-client->unstructured) (2.11.7)\n",
            "Requirement already satisfied: pypdf>=4.0 in /usr/local/lib/python3.12/dist-packages (from unstructured-client->unstructured) (6.0.0)\n",
            "Requirement already satisfied: requests-toolbelt>=1.0.0 in /usr/local/lib/python3.12/dist-packages (from unstructured-client->unstructured) (1.0.0)\n",
            "Requirement already satisfied: cffi>=1.12 in /usr/local/lib/python3.12/dist-packages (from cryptography>=3.1->unstructured-client->unstructured) (1.17.1)\n",
            "Requirement already satisfied: h11>=0.16 in /usr/local/lib/python3.12/dist-packages (from httpcore>=1.0.9->unstructured-client->unstructured) (0.16.0)\n",
            "Requirement already satisfied: anyio in /usr/local/lib/python3.12/dist-packages (from httpx>=0.27.0->unstructured-client->unstructured) (4.10.0)\n",
            "Requirement already satisfied: packaging>=17.0 in /usr/local/lib/python3.12/dist-packages (from marshmallow<4.0.0,>=3.18.0->dataclasses-json->unstructured) (25.0)\n",
            "Requirement already satisfied: annotated-types>=0.6.0 in /usr/local/lib/python3.12/dist-packages (from pydantic>=2.11.2->unstructured-client->unstructured) (0.7.0)\n",
            "Requirement already satisfied: pydantic-core==2.33.2 in /usr/local/lib/python3.12/dist-packages (from pydantic>=2.11.2->unstructured-client->unstructured) (2.33.2)\n",
            "Requirement already satisfied: typing-inspection>=0.4.0 in /usr/local/lib/python3.12/dist-packages (from pydantic>=2.11.2->unstructured-client->unstructured) (0.4.1)\n",
            "Requirement already satisfied: mypy-extensions>=0.3.0 in /usr/local/lib/python3.12/dist-packages (from typing-inspect<1,>=0.4.0->dataclasses-json->unstructured) (1.1.0)\n",
            "Requirement already satisfied: pycparser in /usr/local/lib/python3.12/dist-packages (from cffi>=1.12->cryptography>=3.1->unstructured-client->unstructured) (2.22)\n",
            "Requirement already satisfied: sniffio>=1.1 in /usr/local/lib/python3.12/dist-packages (from anyio->httpx>=0.27.0->unstructured-client->unstructured) (1.3.1)\n"
          ]
        }
      ]
    },
    {
      "cell_type": "code",
      "source": [
        "urls = ['https://www.secretshare.tech']\n",
        "loader = UnstructuredURLLoader(urls=urls)\n",
        "data = loader.load()"
      ],
      "metadata": {
        "id": "UWfrKP4fYIxa"
      },
      "execution_count": null,
      "outputs": []
    },
    {
      "cell_type": "code",
      "source": [
        "data"
      ],
      "metadata": {
        "colab": {
          "base_uri": "https://localhost:8080/"
        },
        "collapsed": true,
        "id": "m3MK90o_ad8E",
        "outputId": "c801b960-2c32-4f7f-823e-cbbe72b1b499"
      },
      "execution_count": null,
      "outputs": [
        {
          "output_type": "execute_result",
          "data": {
            "text/plain": [
              "[Document(metadata={'source': 'https://www.secretshare.tech'}, page_content=\"SecretShare Logo\\n\\nShare Secrets Securely\\n\\nEnd-to-end encrypted, one-time secret sharing with self-destruct capabilities. Your data is encrypted client-side and never stored unencrypted on our servers.\\n\\nAES-256 Encryption\\n\\nSelf-Destruct Timer\\n\\nOne-Time View\\n\\nInstant Sharing\\n\\nCreate a Secret\\n\\nYour message or file will be encrypted client-side and can only be viewed once.\\n\\nKey Features\\n\\nEnd-to-End Encryption\\n\\nYour data is encrypted client-side with AES-256 before leaving your device\\n\\nSelf-Destruct Timer\\n\\nSecrets automatically destroy after a set viewing duration\\n\\nOne-Time Viewing\\n\\nEach secret can only be viewed once, then it's gone forever\\n\\nUniversal File Support\\n\\nShare any file type - documents, images, videos, archives\\n\\nEnd-to-End Encryption\\n\\nMilitary-grade encryption ensures your secrets remain private\\n\\nUniversal File Support\\n\\nDocuments\\n\\nPDF, DOC, TXT, RTF\\n\\nImages\\n\\nPNG, JPG, GIF, SVG\\n\\nVideos\\n\\nMP4, AVI, MOV, WebM\\n\\nArchives\\n\\nZIP, RAR, 7Z\\n\\nClient-Side Encryption\\n\\nAll encryption happens in your browser. We never see your unencrypted data.\\n\\nZero Knowledge\\n\\nOur servers never have access to your encryption keys or unencrypted content.\\n\\nOpen Source\\n\\nTransparent, auditable code ensures trust and security for all users.\")]"
            ]
          },
          "metadata": {},
          "execution_count": 55
        }
      ]
    },
    {
      "cell_type": "code",
      "source": [
        "from langchain.text_splitter import RecursiveCharacterTextSplitter\n",
        "text_splitter= RecursiveCharacterTextSplitter(chunk_size=1000, chunk_overlap=50)\n",
        "texts = text_splitter.split_documents(data)"
      ],
      "metadata": {
        "id": "GXpeAgxia10W"
      },
      "execution_count": null,
      "outputs": []
    },
    {
      "cell_type": "code",
      "source": [
        "texts"
      ],
      "metadata": {
        "colab": {
          "base_uri": "https://localhost:8080/"
        },
        "id": "4t9q-UG-bXC2",
        "outputId": "e09cb6cd-4d67-43f3-9b47-f3ac9c907f56"
      },
      "execution_count": null,
      "outputs": [
        {
          "output_type": "execute_result",
          "data": {
            "text/plain": [
              "[Document(metadata={'source': 'https://www.secretshare.tech'}, page_content=\"SecretShare Logo\\n\\nShare Secrets Securely\\n\\nEnd-to-end encrypted, one-time secret sharing with self-destruct capabilities. Your data is encrypted client-side and never stored unencrypted on our servers.\\n\\nAES-256 Encryption\\n\\nSelf-Destruct Timer\\n\\nOne-Time View\\n\\nInstant Sharing\\n\\nCreate a Secret\\n\\nYour message or file will be encrypted client-side and can only be viewed once.\\n\\nKey Features\\n\\nEnd-to-End Encryption\\n\\nYour data is encrypted client-side with AES-256 before leaving your device\\n\\nSelf-Destruct Timer\\n\\nSecrets automatically destroy after a set viewing duration\\n\\nOne-Time Viewing\\n\\nEach secret can only be viewed once, then it's gone forever\\n\\nUniversal File Support\\n\\nShare any file type - documents, images, videos, archives\\n\\nEnd-to-End Encryption\\n\\nMilitary-grade encryption ensures your secrets remain private\\n\\nUniversal File Support\\n\\nDocuments\\n\\nPDF, DOC, TXT, RTF\\n\\nImages\\n\\nPNG, JPG, GIF, SVG\\n\\nVideos\\n\\nMP4, AVI, MOV, WebM\\n\\nArchives\\n\\nZIP, RAR, 7Z\\n\\nClient-Side Encryption\"),\n",
              " Document(metadata={'source': 'https://www.secretshare.tech'}, page_content='Archives\\n\\nZIP, RAR, 7Z\\n\\nClient-Side Encryption\\n\\nAll encryption happens in your browser. We never see your unencrypted data.\\n\\nZero Knowledge\\n\\nOur servers never have access to your encryption keys or unencrypted content.\\n\\nOpen Source\\n\\nTransparent, auditable code ensures trust and security for all users.')]"
            ]
          },
          "metadata": {},
          "execution_count": 57
        }
      ]
    },
    {
      "cell_type": "code",
      "source": [
        "!pip install transformers"
      ],
      "metadata": {
        "colab": {
          "base_uri": "https://localhost:8080/"
        },
        "id": "iVLc9rTtcLo0",
        "outputId": "0e07ec7e-a946-425e-8644-9a413a0f805d",
        "collapsed": true
      },
      "execution_count": null,
      "outputs": [
        {
          "output_type": "stream",
          "name": "stdout",
          "text": [
            "Requirement already satisfied: transformers in /usr/local/lib/python3.12/dist-packages (4.55.2)\n",
            "Requirement already satisfied: filelock in /usr/local/lib/python3.12/dist-packages (from transformers) (3.19.1)\n",
            "Requirement already satisfied: huggingface-hub<1.0,>=0.34.0 in /usr/local/lib/python3.12/dist-packages (from transformers) (0.34.4)\n",
            "Requirement already satisfied: numpy>=1.17 in /usr/local/lib/python3.12/dist-packages (from transformers) (2.0.2)\n",
            "Requirement already satisfied: packaging>=20.0 in /usr/local/lib/python3.12/dist-packages (from transformers) (25.0)\n",
            "Requirement already satisfied: pyyaml>=5.1 in /usr/local/lib/python3.12/dist-packages (from transformers) (6.0.2)\n",
            "Requirement already satisfied: regex!=2019.12.17 in /usr/local/lib/python3.12/dist-packages (from transformers) (2024.11.6)\n",
            "Requirement already satisfied: requests in /usr/local/lib/python3.12/dist-packages (from transformers) (2.32.3)\n",
            "Requirement already satisfied: tokenizers<0.22,>=0.21 in /usr/local/lib/python3.12/dist-packages (from transformers) (0.21.4)\n",
            "Requirement already satisfied: safetensors>=0.4.3 in /usr/local/lib/python3.12/dist-packages (from transformers) (0.6.2)\n",
            "Requirement already satisfied: tqdm>=4.27 in /usr/local/lib/python3.12/dist-packages (from transformers) (4.67.1)\n",
            "Requirement already satisfied: fsspec>=2023.5.0 in /usr/local/lib/python3.12/dist-packages (from huggingface-hub<1.0,>=0.34.0->transformers) (2025.3.0)\n",
            "Requirement already satisfied: typing-extensions>=3.7.4.3 in /usr/local/lib/python3.12/dist-packages (from huggingface-hub<1.0,>=0.34.0->transformers) (4.14.1)\n",
            "Requirement already satisfied: hf-xet<2.0.0,>=1.1.3 in /usr/local/lib/python3.12/dist-packages (from huggingface-hub<1.0,>=0.34.0->transformers) (1.1.7)\n",
            "Requirement already satisfied: charset-normalizer<4,>=2 in /usr/local/lib/python3.12/dist-packages (from requests->transformers) (3.4.3)\n",
            "Requirement already satisfied: idna<4,>=2.5 in /usr/local/lib/python3.12/dist-packages (from requests->transformers) (3.10)\n",
            "Requirement already satisfied: urllib3<3,>=1.21.1 in /usr/local/lib/python3.12/dist-packages (from requests->transformers) (2.5.0)\n",
            "Requirement already satisfied: certifi>=2017.4.17 in /usr/local/lib/python3.12/dist-packages (from requests->transformers) (2025.8.3)\n"
          ]
        }
      ]
    },
    {
      "cell_type": "code",
      "source": [
        "from langchain.embeddings import HuggingFaceEmbeddings"
      ],
      "metadata": {
        "id": "uZnVo9tw1ri0"
      },
      "execution_count": null,
      "outputs": []
    },
    {
      "cell_type": "code",
      "source": [
        "model_id = 'google/flan-t5-large'"
      ],
      "metadata": {
        "id": "rwoo7NPnqYRs"
      },
      "execution_count": null,
      "outputs": []
    },
    {
      "cell_type": "code",
      "source": [
        "embeddings=HuggingFaceEmbeddings(model_name=model_id)"
      ],
      "metadata": {
        "colab": {
          "base_uri": "https://localhost:8080/"
        },
        "id": "EX7Eb80H14l4",
        "outputId": "27a6a55a-1d52-4725-a379-74bd83466e6f"
      },
      "execution_count": null,
      "outputs": [
        {
          "output_type": "stream",
          "name": "stderr",
          "text": [
            "WARNING:sentence_transformers.SentenceTransformer:No sentence-transformers model found with name google/flan-t5-large. Creating a new one with mean pooling.\n"
          ]
        }
      ]
    },
    {
      "cell_type": "code",
      "source": [
        "!pip -q install chromadb"
      ],
      "metadata": {
        "id": "ItHAJymj1_9e"
      },
      "execution_count": null,
      "outputs": []
    },
    {
      "cell_type": "code",
      "source": [
        "from langchain.vectorstores import Chroma"
      ],
      "metadata": {
        "id": "rRAZT9y92vrd"
      },
      "execution_count": null,
      "outputs": []
    },
    {
      "cell_type": "code",
      "source": [
        "persist_directory = 'db'\n",
        "vectordb = Chroma.from_documents(documents=texts,\n",
        "                                 embedding=embeddings,\n",
        "                                 persist_directory=persist_directory)"
      ],
      "metadata": {
        "id": "8HYbaX__234-"
      },
      "execution_count": null,
      "outputs": []
    },
    {
      "cell_type": "code",
      "source": [
        "vectordb.persist()\n",
        "vectordb = None"
      ],
      "metadata": {
        "id": "Yx_NB6A73NrG"
      },
      "execution_count": null,
      "outputs": []
    },
    {
      "cell_type": "code",
      "source": [
        "vectordb = Chroma(persist_directory=persist_directory,\n",
        "                  embedding_function=embeddings)"
      ],
      "metadata": {
        "id": "1Bustb-73Wj_"
      },
      "execution_count": null,
      "outputs": []
    },
    {
      "cell_type": "code",
      "source": [
        "retriever = vectordb.as_retriever()"
      ],
      "metadata": {
        "id": "XmHx1LMi3ddD"
      },
      "execution_count": null,
      "outputs": []
    },
    {
      "cell_type": "code",
      "source": [
        "docs = retriever.get_relevant_documents(\"What is the use of encryption\")"
      ],
      "metadata": {
        "id": "xiWdpFIf3gBP"
      },
      "execution_count": null,
      "outputs": []
    },
    {
      "cell_type": "code",
      "source": [
        "retriever.search_type"
      ],
      "metadata": {
        "colab": {
          "base_uri": "https://localhost:8080/",
          "height": 35
        },
        "id": "9h7rdsUM3-G_",
        "outputId": "61ef4754-38b3-44cf-8dee-43218a47dec4"
      },
      "execution_count": null,
      "outputs": [
        {
          "output_type": "execute_result",
          "data": {
            "text/plain": [
              "'similarity'"
            ],
            "application/vnd.google.colaboratory.intrinsic+json": {
              "type": "string"
            }
          },
          "metadata": {},
          "execution_count": 69
        }
      ]
    },
    {
      "cell_type": "code",
      "source": [
        "docs"
      ],
      "metadata": {
        "colab": {
          "base_uri": "https://localhost:8080/"
        },
        "id": "YmQo4TSm3mQd",
        "outputId": "63a68ea6-5178-45d6-a4ca-6a5d06bd618e"
      },
      "execution_count": null,
      "outputs": [
        {
          "output_type": "execute_result",
          "data": {
            "text/plain": [
              "[Document(metadata={'source': 'https://www.secretshare.tech'}, page_content='Archives\\n\\nZIP, RAR, 7Z\\n\\nClient-Side Encryption\\n\\nAll encryption happens in your browser. We never see your unencrypted data.\\n\\nZero Knowledge\\n\\nOur servers never have access to your encryption keys or unencrypted content.\\n\\nOpen Source\\n\\nTransparent, auditable code ensures trust and security for all users.'),\n",
              " Document(metadata={'source': 'https://www.secretshare.tech'}, page_content='Archives\\n\\nZIP, RAR, 7Z\\n\\nClient-Side Encryption\\n\\nAll encryption happens in your browser. We never see your unencrypted data.\\n\\nZero Knowledge\\n\\nOur servers never have access to your encryption keys or unencrypted content.\\n\\nOpen Source\\n\\nTransparent, auditable code ensures trust and security for all users.'),\n",
              " Document(metadata={'source': 'https://www.secretshare.tech'}, page_content=\"SecretShare Logo\\n\\nShare Secrets Securely\\n\\nEnd-to-end encrypted, one-time secret sharing with self-destruct capabilities. Your data is encrypted client-side and never stored unencrypted on our servers.\\n\\nAES-256 Encryption\\n\\nSelf-Destruct Timer\\n\\nOne-Time View\\n\\nInstant Sharing\\n\\nCreate a Secret\\n\\nYour message or file will be encrypted client-side and can only be viewed once.\\n\\nKey Features\\n\\nEnd-to-End Encryption\\n\\nYour data is encrypted client-side with AES-256 before leaving your device\\n\\nSelf-Destruct Timer\\n\\nSecrets automatically destroy after a set viewing duration\\n\\nOne-Time Viewing\\n\\nEach secret can only be viewed once, then it's gone forever\\n\\nUniversal File Support\\n\\nShare any file type - documents, images, videos, archives\\n\\nEnd-to-End Encryption\\n\\nMilitary-grade encryption ensures your secrets remain private\\n\\nUniversal File Support\\n\\nDocuments\\n\\nPDF, DOC, TXT, RTF\\n\\nImages\\n\\nPNG, JPG, GIF, SVG\\n\\nVideos\\n\\nMP4, AVI, MOV, WebM\\n\\nArchives\\n\\nZIP, RAR, 7Z\\n\\nClient-Side Encryption\"),\n",
              " Document(metadata={'source': 'https://www.secretshare.tech'}, page_content=\"SecretShare Logo\\n\\nShare Secrets Securely\\n\\nEnd-to-end encrypted, one-time secret sharing with self-destruct capabilities. Your data is encrypted client-side and never stored unencrypted on our servers.\\n\\nAES-256 Encryption\\n\\nSelf-Destruct Timer\\n\\nOne-Time View\\n\\nInstant Sharing\\n\\nCreate a Secret\\n\\nYour message or file will be encrypted client-side and can only be viewed once.\\n\\nKey Features\\n\\nEnd-to-End Encryption\\n\\nYour data is encrypted client-side with AES-256 before leaving your device\\n\\nSelf-Destruct Timer\\n\\nSecrets automatically destroy after a set viewing duration\\n\\nOne-Time Viewing\\n\\nEach secret can only be viewed once, then it's gone forever\\n\\nUniversal File Support\\n\\nShare any file type - documents, images, videos, archives\\n\\nEnd-to-End Encryption\\n\\nMilitary-grade encryption ensures your secrets remain private\\n\\nUniversal File Support\\n\\nDocuments\\n\\nPDF, DOC, TXT, RTF\\n\\nImages\\n\\nPNG, JPG, GIF, SVG\\n\\nVideos\\n\\nMP4, AVI, MOV, WebM\\n\\nArchives\\n\\nZIP, RAR, 7Z\\n\\nClient-Side Encryption\")]"
            ]
          },
          "metadata": {},
          "execution_count": 70
        }
      ]
    },
    {
      "cell_type": "code",
      "source": [
        "from langchain.chains import RetrievalQA"
      ],
      "metadata": {
        "id": "8x86UAR94CHE"
      },
      "execution_count": null,
      "outputs": []
    },
    {
      "cell_type": "code",
      "source": [
        "from transformers import pipeline\n",
        "from langchain.llms import HuggingFacePipeline\n",
        "\n",
        "generator = pipeline(\"text2text-generation\", model=model_id, max_length=64)\n",
        "llm = HuggingFacePipeline(pipeline=generator)\n"
      ],
      "metadata": {
        "colab": {
          "base_uri": "https://localhost:8080/"
        },
        "id": "kfkycOg8iHxi",
        "outputId": "b8f75440-970c-435c-a1c6-66cffa6de8c1"
      },
      "execution_count": null,
      "outputs": [
        {
          "output_type": "stream",
          "name": "stderr",
          "text": [
            "Device set to use cuda:0\n"
          ]
        }
      ]
    },
    {
      "cell_type": "code",
      "source": [
        "qa_chain = RetrievalQA.from_chain_type(llm=llm,\n",
        "                                  chain_type=\"stuff\",\n",
        "                                  retriever=retriever,\n",
        "                                  return_source_documents=True)"
      ],
      "metadata": {
        "id": "wdP4O6no4DXp"
      },
      "execution_count": null,
      "outputs": []
    },
    {
      "cell_type": "code",
      "source": [
        "llm_response = qa_chain(\"What is the use of encryption\")"
      ],
      "metadata": {
        "colab": {
          "base_uri": "https://localhost:8080/"
        },
        "id": "2S-Obfbq4aNj",
        "outputId": "32a17a18-9a11-474a-b6b1-83c914a5f59e"
      },
      "execution_count": null,
      "outputs": [
        {
          "output_type": "stream",
          "name": "stderr",
          "text": [
            "Token indices sequence length is longer than the specified maximum sequence length for this model (681 > 512). Running this sequence through the model will result in indexing errors\n"
          ]
        }
      ]
    },
    {
      "cell_type": "code",
      "source": [
        "llm_response"
      ],
      "metadata": {
        "colab": {
          "base_uri": "https://localhost:8080/"
        },
        "id": "kc2HIHa44e1T",
        "outputId": "45bc9535-d541-4c79-b2ea-dfb14ae88353"
      },
      "execution_count": null,
      "outputs": [
        {
          "output_type": "execute_result",
          "data": {
            "text/plain": [
              "{'query': 'What is the use of encryption',\n",
              " 'result': 'End-to-end encrypted, one-time secret sharing with self-destruct capabilities. Your data is encrypted client-side and never stored unencrypted on our servers',\n",
              " 'source_documents': [Document(metadata={'source': 'https://www.secretshare.tech'}, page_content='Archives\\n\\nZIP, RAR, 7Z\\n\\nClient-Side Encryption\\n\\nAll encryption happens in your browser. We never see your unencrypted data.\\n\\nZero Knowledge\\n\\nOur servers never have access to your encryption keys or unencrypted content.\\n\\nOpen Source\\n\\nTransparent, auditable code ensures trust and security for all users.'),\n",
              "  Document(metadata={'source': 'https://www.secretshare.tech'}, page_content='Archives\\n\\nZIP, RAR, 7Z\\n\\nClient-Side Encryption\\n\\nAll encryption happens in your browser. We never see your unencrypted data.\\n\\nZero Knowledge\\n\\nOur servers never have access to your encryption keys or unencrypted content.\\n\\nOpen Source\\n\\nTransparent, auditable code ensures trust and security for all users.'),\n",
              "  Document(metadata={'source': 'https://www.secretshare.tech'}, page_content=\"SecretShare Logo\\n\\nShare Secrets Securely\\n\\nEnd-to-end encrypted, one-time secret sharing with self-destruct capabilities. Your data is encrypted client-side and never stored unencrypted on our servers.\\n\\nAES-256 Encryption\\n\\nSelf-Destruct Timer\\n\\nOne-Time View\\n\\nInstant Sharing\\n\\nCreate a Secret\\n\\nYour message or file will be encrypted client-side and can only be viewed once.\\n\\nKey Features\\n\\nEnd-to-End Encryption\\n\\nYour data is encrypted client-side with AES-256 before leaving your device\\n\\nSelf-Destruct Timer\\n\\nSecrets automatically destroy after a set viewing duration\\n\\nOne-Time Viewing\\n\\nEach secret can only be viewed once, then it's gone forever\\n\\nUniversal File Support\\n\\nShare any file type - documents, images, videos, archives\\n\\nEnd-to-End Encryption\\n\\nMilitary-grade encryption ensures your secrets remain private\\n\\nUniversal File Support\\n\\nDocuments\\n\\nPDF, DOC, TXT, RTF\\n\\nImages\\n\\nPNG, JPG, GIF, SVG\\n\\nVideos\\n\\nMP4, AVI, MOV, WebM\\n\\nArchives\\n\\nZIP, RAR, 7Z\\n\\nClient-Side Encryption\"),\n",
              "  Document(metadata={'source': 'https://www.secretshare.tech'}, page_content=\"SecretShare Logo\\n\\nShare Secrets Securely\\n\\nEnd-to-end encrypted, one-time secret sharing with self-destruct capabilities. Your data is encrypted client-side and never stored unencrypted on our servers.\\n\\nAES-256 Encryption\\n\\nSelf-Destruct Timer\\n\\nOne-Time View\\n\\nInstant Sharing\\n\\nCreate a Secret\\n\\nYour message or file will be encrypted client-side and can only be viewed once.\\n\\nKey Features\\n\\nEnd-to-End Encryption\\n\\nYour data is encrypted client-side with AES-256 before leaving your device\\n\\nSelf-Destruct Timer\\n\\nSecrets automatically destroy after a set viewing duration\\n\\nOne-Time Viewing\\n\\nEach secret can only be viewed once, then it's gone forever\\n\\nUniversal File Support\\n\\nShare any file type - documents, images, videos, archives\\n\\nEnd-to-End Encryption\\n\\nMilitary-grade encryption ensures your secrets remain private\\n\\nUniversal File Support\\n\\nDocuments\\n\\nPDF, DOC, TXT, RTF\\n\\nImages\\n\\nPNG, JPG, GIF, SVG\\n\\nVideos\\n\\nMP4, AVI, MOV, WebM\\n\\nArchives\\n\\nZIP, RAR, 7Z\\n\\nClient-Side Encryption\")]}"
            ]
          },
          "metadata": {},
          "execution_count": 75
        }
      ]
    }
  ]
}